{
 "cells": [
  {
   "cell_type": "markdown",
   "id": "9d2f5351-de2f-4171-8c07-d376a9440ae0",
   "metadata": {},
   "source": [
    "### Parts of Speech Tagging"
   ]
  },
  {
   "cell_type": "code",
   "execution_count": 1,
   "id": "b36d2991-a5ae-40d1-b418-3459a2cfa358",
   "metadata": {},
   "outputs": [],
   "source": [
    "paragraph = \"\"\"Four score and seven years ago our fathers brought forth on this continent, a new nation, conceived in Liberty, and dedicated to the proposition that all men are created equal.\n",
    "\n",
    "Now we are engaged in a great civil war, testing whether that nation, or any nation so conceived and so dedicated, can long endure. We are met on a great battle-field of that war. We have come to dedicate a portion of that field, as a final resting place for those who here gave their lives that that nation might live. It is altogether fitting and proper that we should do this.\n",
    "\n",
    "But, in a larger sense, we can not dedicate—we can not consecrate—we can not hallow—this ground. The brave men, living and dead, who struggled here, have consecrated it, far above our poor power to add or detract. The world will little note, nor long remember what we say here, but it can never forget what they did here. It is for us the living, rather, to be dedicated here to the unfinished work which they who fought here have thus far so nobly advanced.\n",
    "\n",
    "It is rather for us to be here dedicated to the great task remaining before us—that from these honored dead we take increased devotion to that cause for which they gave the last full measure of devotion—that we here highly resolve that these dead shall not have died in vain—that this nation, under God, shall have a new birth of freedom—and that government of the people, by the people, for the people, shall not perish from the earth.\"\"\""
   ]
  },
  {
   "cell_type": "code",
   "execution_count": 2,
   "id": "08561d56-593a-48c5-aa83-26a1b1af7a42",
   "metadata": {},
   "outputs": [],
   "source": [
    "import nltk\n",
    "sentences = nltk.sent_tokenize(paragraph)"
   ]
  },
  {
   "cell_type": "code",
   "execution_count": 4,
   "id": "7b5cac6c-a796-4675-a793-74f87259de81",
   "metadata": {},
   "outputs": [],
   "source": [
    "from nltk.corpus import stopwords"
   ]
  },
  {
   "cell_type": "code",
   "execution_count": 9,
   "id": "67ba986e-5069-4db4-bcbe-82189e00cc65",
   "metadata": {},
   "outputs": [
    {
     "name": "stderr",
     "output_type": "stream",
     "text": [
      "[nltk_data] Downloading package stopwords to\n",
      "[nltk_data]     /Users/rahmatunnisakhatoon/nltk_data...\n",
      "[nltk_data]   Package stopwords is already up-to-date!\n",
      "[nltk_data] Downloading package averaged_perceptron_tagger_eng to\n",
      "[nltk_data]     /Users/rahmatunnisakhatoon/nltk_data...\n",
      "[nltk_data]   Unzipping taggers/averaged_perceptron_tagger_eng.zip.\n"
     ]
    },
    {
     "data": {
      "text/plain": [
       "True"
      ]
     },
     "execution_count": 9,
     "metadata": {},
     "output_type": "execute_result"
    }
   ],
   "source": [
    "nltk.download('stopwords')\n",
    "nltk.download('averaged_perceptron_tagger_eng')"
   ]
  },
  {
   "cell_type": "code",
   "execution_count": 3,
   "id": "2f333f4e-4502-4fad-8179-243efb6ac0c6",
   "metadata": {},
   "outputs": [
    {
     "data": {
      "text/plain": [
       "['Four score and seven years ago our fathers brought forth on this continent, a new nation, conceived in Liberty, and dedicated to the proposition that all men are created equal.',\n",
       " 'Now we are engaged in a great civil war, testing whether that nation, or any nation so conceived and so dedicated, can long endure.',\n",
       " 'We are met on a great battle-field of that war.',\n",
       " 'We have come to dedicate a portion of that field, as a final resting place for those who here gave their lives that that nation might live.',\n",
       " 'It is altogether fitting and proper that we should do this.',\n",
       " 'But, in a larger sense, we can not dedicate—we can not consecrate—we can not hallow—this ground.',\n",
       " 'The brave men, living and dead, who struggled here, have consecrated it, far above our poor power to add or detract.',\n",
       " 'The world will little note, nor long remember what we say here, but it can never forget what they did here.',\n",
       " 'It is for us the living, rather, to be dedicated here to the unfinished work which they who fought here have thus far so nobly advanced.',\n",
       " 'It is rather for us to be here dedicated to the great task remaining before us—that from these honored dead we take increased devotion to that cause for which they gave the last full measure of devotion—that we here highly resolve that these dead shall not have died in vain—that this nation, under God, shall have a new birth of freedom—and that government of the people, by the people, for the people, shall not perish from the earth.']"
      ]
     },
     "execution_count": 3,
     "metadata": {},
     "output_type": "execute_result"
    }
   ],
   "source": [
    "sentences"
   ]
  },
  {
   "cell_type": "code",
   "execution_count": 10,
   "id": "8c105b1b-7bf3-4bda-aed0-4c14fb4030b6",
   "metadata": {},
   "outputs": [
    {
     "name": "stdout",
     "output_type": "stream",
     "text": [
      "[('Four', 'CD'), ('score', 'NN'), ('seven', 'CD'), ('years', 'NNS'), ('ago', 'RB'), ('fathers', 'NNS'), ('brought', 'VBD'), ('forth', 'JJ'), ('continent', 'NN'), (',', ','), ('new', 'JJ'), ('nation', 'NN'), (',', ','), ('conceived', 'VBD'), ('Liberty', 'NNP'), (',', ','), ('dedicated', 'VBN'), ('proposition', 'NN'), ('men', 'NNS'), ('created', 'VBD'), ('equal', 'JJ'), ('.', '.')]\n",
      "[('Now', 'RB'), ('engaged', 'VBN'), ('great', 'JJ'), ('civil', 'JJ'), ('war', 'NN'), (',', ','), ('testing', 'VBG'), ('whether', 'IN'), ('nation', 'NN'), (',', ','), ('nation', 'NN'), ('conceived', 'VBD'), ('dedicated', 'VBN'), (',', ','), ('long', 'JJ'), ('endure', 'NN'), ('.', '.')]\n",
      "[('We', 'PRP'), ('met', 'VBD'), ('great', 'JJ'), ('battle-field', 'JJ'), ('war', 'NN'), ('.', '.')]\n",
      "[('We', 'PRP'), ('come', 'VBP'), ('dedicate', 'JJ'), ('portion', 'NN'), ('field', 'NN'), (',', ','), ('final', 'JJ'), ('resting', 'VBG'), ('place', 'NN'), ('gave', 'VBD'), ('lives', 'NNS'), ('nation', 'NN'), ('might', 'MD'), ('live', 'VB'), ('.', '.')]\n",
      "[('It', 'PRP'), ('altogether', 'RB'), ('fitting', 'VBG'), ('proper', 'NN'), ('.', '.')]\n",
      "[('But', 'CC'), (',', ','), ('larger', 'JJR'), ('sense', 'NN'), (',', ','), ('dedicate—we', 'NN'), ('consecrate—we', 'NN'), ('hallow—this', 'NN'), ('ground', 'NN'), ('.', '.')]\n",
      "[('The', 'DT'), ('brave', 'NN'), ('men', 'NNS'), (',', ','), ('living', 'VBG'), ('dead', 'JJ'), (',', ','), ('struggled', 'VBD'), (',', ','), ('consecrated', 'VBN'), (',', ','), ('far', 'RB'), ('poor', 'JJ'), ('power', 'NN'), ('add', 'IN'), ('detract', 'NN'), ('.', '.')]\n",
      "[('The', 'DT'), ('world', 'NN'), ('little', 'JJ'), ('note', 'NN'), (',', ','), ('long', 'JJ'), ('remember', 'NN'), ('say', 'VBP'), (',', ','), ('never', 'RB'), ('forget', 'NN'), ('.', '.')]\n",
      "[('It', 'PRP'), ('us', 'PRP'), ('living', 'VBG'), (',', ','), ('rather', 'RB'), (',', ','), ('dedicated', 'VBD'), ('unfinished', 'JJ'), ('work', 'NN'), ('fought', 'NN'), ('thus', 'RB'), ('far', 'RB'), ('nobly', 'RB'), ('advanced', 'JJ'), ('.', '.')]\n",
      "[('It', 'PRP'), ('rather', 'RB'), ('us', 'PRP'), ('dedicated', 'VBD'), ('great', 'JJ'), ('task', 'NN'), ('remaining', 'VBG'), ('us—that', 'RB'), ('honored', 'VBN'), ('dead', 'JJ'), ('take', 'NN'), ('increased', 'VBD'), ('devotion', 'NN'), ('cause', 'NN'), ('gave', 'VBD'), ('last', 'JJ'), ('full', 'JJ'), ('measure', 'NN'), ('devotion—that', 'WP'), ('highly', 'RB'), ('resolve', 'VBP'), ('dead', 'JJ'), ('shall', 'MD'), ('died', 'VBD'), ('vain—that', 'DT'), ('nation', 'NN'), (',', ','), ('God', 'NNP'), (',', ','), ('shall', 'MD'), ('new', 'JJ'), ('birth', 'NN'), ('freedom—and', 'JJ'), ('government', 'NN'), ('people', 'NNS'), (',', ','), ('people', 'NNS'), (',', ','), ('people', 'NNS'), (',', ','), ('shall', 'MD'), ('perish', 'VB'), ('earth', 'NN'), ('.', '.')]\n"
     ]
    }
   ],
   "source": [
    "##Finding the Part of Speech Tag\n",
    "\n",
    "for i in range(len(sentences)):\n",
    "    words = nltk.word_tokenize(sentences[i])\n",
    "    words = [word for word in words if word not in set(stopwords.words('english'))]\n",
    "    #sentences[i] = ' '.join(words) #converting words into sentences \n",
    "    pos_tag = nltk.pos_tag(words)\n",
    "    print(pos_tag)"
   ]
  },
  {
   "cell_type": "code",
   "execution_count": 16,
   "id": "e336f681-4b44-44d9-a660-6bf393401adb",
   "metadata": {},
   "outputs": [
    {
     "data": {
      "text/plain": [
       "[[('Taj is a beautiful Monument', 'NN')]]"
      ]
     },
     "execution_count": 16,
     "metadata": {},
     "output_type": "execute_result"
    }
   ],
   "source": [
    "nltk.pos_tag_sents([[\"Taj is a beautiful Monument\"]])"
   ]
  },
  {
   "cell_type": "code",
   "execution_count": 18,
   "id": "56ec9211-53b3-474b-9de7-d4a31bcc655c",
   "metadata": {},
   "outputs": [
    {
     "data": {
      "text/plain": [
       "['Taj', 'is', 'a', 'beautiful', 'Monument']"
      ]
     },
     "execution_count": 18,
     "metadata": {},
     "output_type": "execute_result"
    }
   ],
   "source": [
    "\"Taj is a beautiful Monument\".split()"
   ]
  },
  {
   "cell_type": "code",
   "execution_count": 22,
   "id": "791696f8-6128-4ada-8d2d-1f1e6f9ac8e4",
   "metadata": {},
   "outputs": [
    {
     "name": "stdout",
     "output_type": "stream",
     "text": [
      "[('Taj', 'NNP'), ('is', 'VBZ'), ('a', 'DT'), ('beautiful', 'JJ'), ('Monument', 'NN')]\n"
     ]
    }
   ],
   "source": [
    "print(nltk.pos_tag(\"Taj is a beautiful Monument\".split()))"
   ]
  }
 ],
 "metadata": {
  "kernelspec": {
   "display_name": "Python 3 (ipykernel)",
   "language": "python",
   "name": "python3"
  },
  "language_info": {
   "codemirror_mode": {
    "name": "ipython",
    "version": 3
   },
   "file_extension": ".py",
   "mimetype": "text/x-python",
   "name": "python",
   "nbconvert_exporter": "python",
   "pygments_lexer": "ipython3",
   "version": "3.12.7"
  }
 },
 "nbformat": 4,
 "nbformat_minor": 5
}
